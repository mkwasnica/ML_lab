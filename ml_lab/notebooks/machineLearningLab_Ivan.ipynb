{
 "cells": [
  {
   "cell_type": "code",
   "execution_count": 87,
   "metadata": {},
   "outputs": [],
   "source": [
    "import pandas as pd\n",
    "import re\n",
    "from matplotlib import pyplot as plt\n",
    "import seaborn as sns\n",
    "import numpy as np\n",
    "\n",
    "%matplotlib inline"
   ]
  },
  {
   "cell_type": "markdown",
   "metadata": {},
   "source": [
    "# Part I: Preprocessing and EDA"
   ]
  },
  {
   "cell_type": "markdown",
   "metadata": {},
   "source": [
    "## Problem 1"
   ]
  },
  {
   "cell_type": "code",
   "execution_count": 59,
   "metadata": {},
   "outputs": [],
   "source": [
    "orders_raw = pd.read_csv('../src/data/Orders.csv')\n",
    "returns_raw = pd.read_csv('../src/data/returns.csv')"
   ]
  },
  {
   "cell_type": "code",
   "execution_count": 61,
   "metadata": {},
   "outputs": [],
   "source": [
    "returns = returns_raw.copy()\n",
    "returns.columns = list(map(lambda s: re.sub('[. ]', '', s),  returns.columns))\n",
    "orders = orders_raw.copy()\n",
    "orders.columns = list(map(lambda s: re.sub('\\.', '', s),  orders.columns))\n",
    "#Cleaning Sales and Profit\n",
    "orders['Sales'] = pd.to_numeric(pd.Series(map(lambda s: re.sub(r'[$,]', '', s),  orders['Sales'])))\n",
    "orders['Profit'] = pd.to_numeric(pd.Series(map(lambda s: re.sub(r'[$,]', '', s),  orders['Profit'])))"
   ]
  },
  {
   "cell_type": "markdown",
   "metadata": {},
   "source": [
    "## Problem 2"
   ]
  },
  {
   "cell_type": "code",
   "execution_count": 62,
   "metadata": {},
   "outputs": [],
   "source": [
    "# Creating a Month column\n",
    "orders['OrderDate'] = pd.to_datetime(orders['OrderDate'])\n",
    "orders['OrderMonth'] = pd.DatetimeIndex(orders['OrderDate']).month"
   ]
  },
  {
   "cell_type": "code",
   "execution_count": 63,
   "metadata": {},
   "outputs": [
    {
     "data": {
      "text/plain": [
       "<matplotlib.axes._subplots.AxesSubplot at 0x123ade190>"
      ]
     },
     "execution_count": 63,
     "metadata": {},
     "output_type": "execute_result"
    },
    {
     "data": {
      "image/png": "[encoded data removed]",
      "text/plain": [
       "<Figure size 432x288 with 1 Axes>"
      ]
     },
     "metadata": {
      "needs_background": "light"
     },
     "output_type": "display_data"
    }
   ],
   "source": [
    "orders.groupby('OrderMonth')[['Quantity']].agg('sum').reset_index().plot.bar(x = 'OrderMonth', y = 'Quantity')"
   ]
  },
  {
   "cell_type": "markdown",
   "metadata": {},
   "source": [
    "Orders seem to be concentrated after the month of June, especially June, September, November, December."
   ]
  },
  {
   "cell_type": "code",
   "execution_count": 64,
   "metadata": {},
   "outputs": [
    {
     "data": {
      "text/plain": [
       "<matplotlib.axes._subplots.AxesSubplot at 0x1a27a4f690>"
      ]
     },
     "execution_count": 64,
     "metadata": {},
     "output_type": "execute_result"
    },
    {
     "data": {
      "image/png": "[encoded data removed]",
      "text/plain": [
       "<Figure size 432x288 with 1 Axes>"
      ]
     },
     "metadata": {
      "needs_background": "light"
     },
     "output_type": "display_data"
    }
   ],
   "source": [
    "temp = orders.groupby(['OrderMonth', 'Category'])[['Quantity']].agg('sum').reset_index()\n",
    "sns.barplot(data = temp, x = 'OrderMonth', y = 'Quantity', hue = 'Category')"
   ]
  },
  {
   "cell_type": "markdown",
   "metadata": {},
   "source": [
    "The seasonal trend seems to be influenced mostly by office Supplies"
   ]
  },
  {
   "cell_type": "markdown",
   "metadata": {},
   "source": [
    "## Problem 3"
   ]
  },
  {
   "cell_type": "code",
   "execution_count": 195,
   "metadata": {},
   "outputs": [],
   "source": [
    "#Merging order with returns\n",
    "orders_tot = orders.merge(returns[['Returned', 'OrderID']], on = 'OrderID', how = 'left')\n",
    "#Changing nan to 'No': Not returned\n",
    "orders_tot.loc[orders_tot['Returned'].isna(), 'Returned'] = 'No'"
   ]
  },
  {
   "cell_type": "markdown",
   "metadata": {},
   "source": [
    "#### 1 How much profit did we lose due to returns each year?"
   ]
  },
  {
   "cell_type": "code",
   "execution_count": 120,
   "metadata": {},
   "outputs": [
    {
     "data": {
      "text/plain": [
       "61371.0"
      ]
     },
     "execution_count": 120,
     "metadata": {},
     "output_type": "execute_result"
    }
   ],
   "source": [
    "# Proportion of retuned to not returned\n",
    "orders_tot.groupby('Returned')['Returned'].agg('count')\n",
    "# Total Profit loss by returns\n",
    "orders_tot.groupby('Returned')['Profit'].agg('sum')['Yes'].round()"
   ]
  },
  {
   "cell_type": "markdown",
   "metadata": {},
   "source": [
    "#### 2 How many customer returned more than once? more than 5 times?"
   ]
  },
  {
   "cell_type": "code",
   "execution_count": 136,
   "metadata": {},
   "outputs": [
    {
     "name": "stdout",
     "output_type": "stream",
     "text": [
      "Number of customers that returned more than once: 547\n",
      "Number of customers that returned more than 5 times: 46\n"
     ]
    }
   ],
   "source": [
    "print(\"Number of customers that returned more than once: \" \\\n",
    "      f\"{np.sum(orders_tot.loc[orders_tot['Returned'] == 'Yes'].groupby('CustomerID')['CustomerID'].agg('count') > 1)}\")\n",
    "      \n",
    "      \n",
    "print(\"Number of customers that returned more than 5 times: \" \\\n",
    "      f\"{np.sum(orders_tot.loc[orders_tot['Returned'] == 'Yes'].groupby('CustomerID')['CustomerID'].agg('count') > 5)}\")"
   ]
  },
  {
   "cell_type": "markdown",
   "metadata": {},
   "source": [
    "#### 3 Which regions are more likely to return orders?"
   ]
  },
  {
   "cell_type": "code",
   "execution_count": 165,
   "metadata": {},
   "outputs": [
    {
     "data": {
      "text/plain": [
       "Region\n",
       "Central America      248\n",
       "Western Europe       233\n",
       "Western US           177\n",
       "Oceania              154\n",
       "Southeastern Asia    140\n",
       "Eastern US           134\n",
       "South America        133\n",
       "Eastern Asia         131\n",
       "Southern Europe      112\n",
       "Southern Asia        111\n",
       "Western Asia         108\n",
       "Southern US           83\n",
       "Northern Europe       76\n",
       "Central US            74\n",
       "Caribbean             69\n",
       "Western Africa        60\n",
       "North Africa          51\n",
       "Eastern Europe        42\n",
       "Southern Africa       25\n",
       "Eastern Africa        18\n",
       "Central Africa        17\n",
       "Canada                15\n",
       "Central Asia           9\n",
       "Name: Returned, dtype: int64"
      ]
     },
     "execution_count": 165,
     "metadata": {},
     "output_type": "execute_result"
    }
   ],
   "source": [
    "orders_tot.loc[orders_tot['Returned'] == 'Yes'] \\\n",
    "          .groupby('Region')['Returned'].agg('count') \\\n",
    "          .sort_values(ascending = False)"
   ]
  },
  {
   "cell_type": "markdown",
   "metadata": {},
   "source": [
    "Central America, Western Europe, Western US"
   ]
  },
  {
   "cell_type": "markdown",
   "metadata": {},
   "source": [
    "#### 4 Which categories (sub-categories) of products are more likely to be returned?"
   ]
  },
  {
   "cell_type": "code",
   "execution_count": 189,
   "metadata": {},
   "outputs": [
    {
     "data": {
      "text/plain": [
       "SubCategory\n",
       "Labels         5.3\n",
       "Tables         4.8\n",
       "Accessories    4.5\n",
       "Art            4.5\n",
       "Copiers        4.5\n",
       "Binders        4.4\n",
       "Phones         4.3\n",
       "Bookcases      4.3\n",
       "Paper          4.3\n",
       "Chairs         4.3\n",
       "Furnishings    4.3\n",
       "Supplies       4.3\n",
       "Machines       4.2\n",
       "Storage        4.2\n",
       "Envelopes      4.1\n",
       "Fasteners      3.9\n",
       "Appliances     3.4\n",
       "dtype: float64"
      ]
     },
     "execution_count": 189,
     "metadata": {},
     "output_type": "execute_result"
    }
   ],
   "source": [
    "total = orders_tot.groupby('SubCategory')['SubCategory'].agg('count')\n",
    "returned = orders_tot.loc[orders_tot['Returned'] == 'Yes'] \\\n",
    "          .groupby('SubCategory')['Returned'].agg('count')\n",
    "100*((returned/total).sort_values(ascending = False)).round(3)"
   ]
  },
  {
   "cell_type": "markdown",
   "metadata": {},
   "source": [
    "Labels with 5.3% return rate followed by Tables and Accessories with 4.8% and 4.5% return rates."
   ]
  },
  {
   "cell_type": "markdown",
   "metadata": {},
   "source": [
    "# Part II: Machine Learning and Business Use Case"
   ]
  },
  {
   "cell_type": "markdown",
   "metadata": {},
   "source": [
    "## Problem 4: Feature Engineering"
   ]
  },
  {
   "cell_type": "markdown",
   "metadata": {},
   "source": [
    "###### Step 1"
   ]
  },
  {
   "cell_type": "code",
   "execution_count": 201,
   "metadata": {},
   "outputs": [],
   "source": [
    "# Dummify the Returned column\n",
    "pd.get_dummies(orders_tot, columns = ['Returned'], drop_first=True)\n",
    "# Another way\n",
    "orders_tot.loc[orders_tot['Returned'] == 'Yes', 'Returned'] = 1\n",
    "orders_tot.loc[orders_tot['Returned'] == 'No', 'Returned'] = 0\n",
    "# 1 for returned\n",
    "# 0 not returned"
   ]
  },
  {
   "cell_type": "markdown",
   "metadata": {},
   "source": [
    "###### Step 2"
   ]
  },
  {
   "cell_type": "code",
   "execution_count": 205,
   "metadata": {},
   "outputs": [],
   "source": [
    "# Parse ShipDate to datetime format\n",
    "orders_tot['ShipDate'] = pd.to_datetime(orders_tot['ShipDate'])"
   ]
  },
  {
   "cell_type": "code",
   "execution_count": 207,
   "metadata": {},
   "outputs": [],
   "source": [
    "orders_tot['ProcessTime'] = orders_tot['ShipDate'] - orders_tot['OrderDate']"
   ]
  },
  {
   "cell_type": "markdown",
   "metadata": {},
   "source": [
    "###### Step 3"
   ]
  },
  {
   "cell_type": "code",
   "execution_count": 217,
   "metadata": {},
   "outputs": [],
   "source": [
    "products_returned = orders_tot.groupby('ProductID')[['Returned']].agg('sum').reset_index()\n",
    "products_returned.columns = ['ProductID', 'TimesReturned']\n",
    "# Merge with the orders table\n",
    "orders_tot = orders_tot.merge(products_returned, on = 'ProductID')"
   ]
  },
  {
   "cell_type": "markdown",
   "metadata": {},
   "source": [
    "## Problem 5: Fitting Models"
   ]
  },
  {
   "cell_type": "code",
   "execution_count": 239,
   "metadata": {},
   "outputs": [],
   "source": [
    "from sklearn.linear_model import LogisticRegression\n",
    "from sklearn.model_selection import StratifiedKFold"
   ]
  },
  {
   "cell_type": "code",
   "execution_count": 251,
   "metadata": {},
   "outputs": [],
   "source": [
    "orders_feat = orders_tot.copy()"
   ]
  },
  {
   "cell_type": "code",
   "execution_count": 252,
   "metadata": {},
   "outputs": [],
   "source": [
    "orders_feat = orders_feat[['ShipMode', 'Region', 'ProcessTime',\n",
    "                           'ShippingCost', 'OrderPriority', 'Quantity', \n",
    "                           'Discount', 'Returned']]\n",
    "orders_feat_d = pd.get_dummies(orders_feat, columns = ['ShipMode', 'Region', 'OrderPriority'], drop_first=True)"
   ]
  },
  {
   "cell_type": "code",
   "execution_count": 249,
   "metadata": {},
   "outputs": [],
   "source": [
    "lr_model = LogisticRegression()\n",
    "skf = StratifiedKFold(n_splits = 2)"
   ]
  },
  {
   "cell_type": "code",
   "execution_count": null,
   "metadata": {},
   "outputs": [],
   "source": [
    "skf"
   ]
  },
  {
   "cell_type": "code",
   "execution_count": null,
   "metadata": {},
   "outputs": [],
   "source": []
  },
  {
   "cell_type": "code",
   "execution_count": null,
   "metadata": {},
   "outputs": [],
   "source": []
  },
  {
   "cell_type": "code",
   "execution_count": 254,
   "metadata": {},
   "outputs": [
    {
     "data": {
      "text/html": [
       "<div>\n",
       "<style scoped>\n",
       "    .dataframe tbody tr th:only-of-type {\n",
       "        vertical-align: middle;\n",
       "    }\n",
       "\n",
       "    .dataframe tbody tr th {\n",
       "        vertical-align: top;\n",
       "    }\n",
       "\n",
       "    .dataframe thead th {\n",
       "        text-align: right;\n",
       "    }\n",
       "</style>\n",
       "<table border=\"1\" class=\"dataframe\">\n",
       "  <thead>\n",
       "    <tr style=\"text-align: right;\">\n",
       "      <th></th>\n",
       "      <th>ProcessTime</th>\n",
       "      <th>ShippingCost</th>\n",
       "      <th>Quantity</th>\n",
       "      <th>Discount</th>\n",
       "      <th>Returned</th>\n",
       "      <th>ShipMode_Same Day</th>\n",
       "      <th>ShipMode_Second Class</th>\n",
       "      <th>ShipMode_Standard Class</th>\n",
       "      <th>Region_Caribbean</th>\n",
       "      <th>Region_Central Africa</th>\n",
       "      <th>...</th>\n",
       "      <th>Region_Southern Asia</th>\n",
       "      <th>Region_Southern Europe</th>\n",
       "      <th>Region_Southern US</th>\n",
       "      <th>Region_Western Africa</th>\n",
       "      <th>Region_Western Asia</th>\n",
       "      <th>Region_Western Europe</th>\n",
       "      <th>Region_Western US</th>\n",
       "      <th>OrderPriority_High</th>\n",
       "      <th>OrderPriority_Low</th>\n",
       "      <th>OrderPriority_Medium</th>\n",
       "    </tr>\n",
       "  </thead>\n",
       "  <tbody>\n",
       "    <tr>\n",
       "      <td>0</td>\n",
       "      <td>2 days</td>\n",
       "      <td>40.770</td>\n",
       "      <td>2</td>\n",
       "      <td>0.0</td>\n",
       "      <td>0</td>\n",
       "      <td>0</td>\n",
       "      <td>0</td>\n",
       "      <td>0</td>\n",
       "      <td>0</td>\n",
       "      <td>0</td>\n",
       "      <td>...</td>\n",
       "      <td>0</td>\n",
       "      <td>0</td>\n",
       "      <td>0</td>\n",
       "      <td>0</td>\n",
       "      <td>0</td>\n",
       "      <td>0</td>\n",
       "      <td>0</td>\n",
       "      <td>1</td>\n",
       "      <td>0</td>\n",
       "      <td>0</td>\n",
       "    </tr>\n",
       "    <tr>\n",
       "      <td>1</td>\n",
       "      <td>4 days</td>\n",
       "      <td>32.980</td>\n",
       "      <td>7</td>\n",
       "      <td>0.4</td>\n",
       "      <td>0</td>\n",
       "      <td>0</td>\n",
       "      <td>0</td>\n",
       "      <td>1</td>\n",
       "      <td>0</td>\n",
       "      <td>0</td>\n",
       "      <td>...</td>\n",
       "      <td>0</td>\n",
       "      <td>0</td>\n",
       "      <td>0</td>\n",
       "      <td>0</td>\n",
       "      <td>0</td>\n",
       "      <td>0</td>\n",
       "      <td>0</td>\n",
       "      <td>0</td>\n",
       "      <td>0</td>\n",
       "      <td>1</td>\n",
       "    </tr>\n",
       "    <tr>\n",
       "      <td>2</td>\n",
       "      <td>2 days</td>\n",
       "      <td>923.630</td>\n",
       "      <td>9</td>\n",
       "      <td>0.1</td>\n",
       "      <td>0</td>\n",
       "      <td>0</td>\n",
       "      <td>1</td>\n",
       "      <td>0</td>\n",
       "      <td>0</td>\n",
       "      <td>0</td>\n",
       "      <td>...</td>\n",
       "      <td>0</td>\n",
       "      <td>0</td>\n",
       "      <td>0</td>\n",
       "      <td>0</td>\n",
       "      <td>0</td>\n",
       "      <td>0</td>\n",
       "      <td>0</td>\n",
       "      <td>0</td>\n",
       "      <td>0</td>\n",
       "      <td>0</td>\n",
       "    </tr>\n",
       "    <tr>\n",
       "      <td>3</td>\n",
       "      <td>2 days</td>\n",
       "      <td>328.659</td>\n",
       "      <td>4</td>\n",
       "      <td>0.2</td>\n",
       "      <td>0</td>\n",
       "      <td>0</td>\n",
       "      <td>0</td>\n",
       "      <td>0</td>\n",
       "      <td>0</td>\n",
       "      <td>0</td>\n",
       "      <td>...</td>\n",
       "      <td>0</td>\n",
       "      <td>0</td>\n",
       "      <td>0</td>\n",
       "      <td>0</td>\n",
       "      <td>0</td>\n",
       "      <td>0</td>\n",
       "      <td>0</td>\n",
       "      <td>0</td>\n",
       "      <td>0</td>\n",
       "      <td>0</td>\n",
       "    </tr>\n",
       "    <tr>\n",
       "      <td>4</td>\n",
       "      <td>5 days</td>\n",
       "      <td>222.780</td>\n",
       "      <td>6</td>\n",
       "      <td>0.0</td>\n",
       "      <td>1</td>\n",
       "      <td>0</td>\n",
       "      <td>0</td>\n",
       "      <td>1</td>\n",
       "      <td>0</td>\n",
       "      <td>0</td>\n",
       "      <td>...</td>\n",
       "      <td>0</td>\n",
       "      <td>0</td>\n",
       "      <td>0</td>\n",
       "      <td>0</td>\n",
       "      <td>0</td>\n",
       "      <td>0</td>\n",
       "      <td>0</td>\n",
       "      <td>0</td>\n",
       "      <td>0</td>\n",
       "      <td>1</td>\n",
       "    </tr>\n",
       "    <tr>\n",
       "      <td>...</td>\n",
       "      <td>...</td>\n",
       "      <td>...</td>\n",
       "      <td>...</td>\n",
       "      <td>...</td>\n",
       "      <td>...</td>\n",
       "      <td>...</td>\n",
       "      <td>...</td>\n",
       "      <td>...</td>\n",
       "      <td>...</td>\n",
       "      <td>...</td>\n",
       "      <td>...</td>\n",
       "      <td>...</td>\n",
       "      <td>...</td>\n",
       "      <td>...</td>\n",
       "      <td>...</td>\n",
       "      <td>...</td>\n",
       "      <td>...</td>\n",
       "      <td>...</td>\n",
       "      <td>...</td>\n",
       "      <td>...</td>\n",
       "      <td>...</td>\n",
       "    </tr>\n",
       "    <tr>\n",
       "      <td>51285</td>\n",
       "      <td>7 days</td>\n",
       "      <td>5.170</td>\n",
       "      <td>3</td>\n",
       "      <td>0.0</td>\n",
       "      <td>0</td>\n",
       "      <td>0</td>\n",
       "      <td>0</td>\n",
       "      <td>1</td>\n",
       "      <td>0</td>\n",
       "      <td>0</td>\n",
       "      <td>...</td>\n",
       "      <td>0</td>\n",
       "      <td>0</td>\n",
       "      <td>0</td>\n",
       "      <td>0</td>\n",
       "      <td>0</td>\n",
       "      <td>0</td>\n",
       "      <td>0</td>\n",
       "      <td>0</td>\n",
       "      <td>1</td>\n",
       "      <td>0</td>\n",
       "    </tr>\n",
       "    <tr>\n",
       "      <td>51286</td>\n",
       "      <td>4 days</td>\n",
       "      <td>64.390</td>\n",
       "      <td>3</td>\n",
       "      <td>0.0</td>\n",
       "      <td>0</td>\n",
       "      <td>0</td>\n",
       "      <td>0</td>\n",
       "      <td>1</td>\n",
       "      <td>0</td>\n",
       "      <td>0</td>\n",
       "      <td>...</td>\n",
       "      <td>0</td>\n",
       "      <td>0</td>\n",
       "      <td>0</td>\n",
       "      <td>0</td>\n",
       "      <td>0</td>\n",
       "      <td>0</td>\n",
       "      <td>0</td>\n",
       "      <td>1</td>\n",
       "      <td>0</td>\n",
       "      <td>0</td>\n",
       "    </tr>\n",
       "    <tr>\n",
       "      <td>51287</td>\n",
       "      <td>3 days</td>\n",
       "      <td>63.010</td>\n",
       "      <td>8</td>\n",
       "      <td>0.0</td>\n",
       "      <td>0</td>\n",
       "      <td>0</td>\n",
       "      <td>0</td>\n",
       "      <td>0</td>\n",
       "      <td>0</td>\n",
       "      <td>0</td>\n",
       "      <td>...</td>\n",
       "      <td>0</td>\n",
       "      <td>0</td>\n",
       "      <td>1</td>\n",
       "      <td>0</td>\n",
       "      <td>0</td>\n",
       "      <td>0</td>\n",
       "      <td>0</td>\n",
       "      <td>1</td>\n",
       "      <td>0</td>\n",
       "      <td>0</td>\n",
       "    </tr>\n",
       "    <tr>\n",
       "      <td>51288</td>\n",
       "      <td>7 days</td>\n",
       "      <td>28.250</td>\n",
       "      <td>4</td>\n",
       "      <td>0.2</td>\n",
       "      <td>0</td>\n",
       "      <td>0</td>\n",
       "      <td>0</td>\n",
       "      <td>1</td>\n",
       "      <td>0</td>\n",
       "      <td>0</td>\n",
       "      <td>...</td>\n",
       "      <td>0</td>\n",
       "      <td>0</td>\n",
       "      <td>0</td>\n",
       "      <td>0</td>\n",
       "      <td>0</td>\n",
       "      <td>0</td>\n",
       "      <td>1</td>\n",
       "      <td>0</td>\n",
       "      <td>0</td>\n",
       "      <td>1</td>\n",
       "    </tr>\n",
       "    <tr>\n",
       "      <td>51289</td>\n",
       "      <td>5 days</td>\n",
       "      <td>14.750</td>\n",
       "      <td>3</td>\n",
       "      <td>0.2</td>\n",
       "      <td>0</td>\n",
       "      <td>0</td>\n",
       "      <td>1</td>\n",
       "      <td>0</td>\n",
       "      <td>0</td>\n",
       "      <td>0</td>\n",
       "      <td>...</td>\n",
       "      <td>0</td>\n",
       "      <td>0</td>\n",
       "      <td>0</td>\n",
       "      <td>0</td>\n",
       "      <td>0</td>\n",
       "      <td>0</td>\n",
       "      <td>1</td>\n",
       "      <td>1</td>\n",
       "      <td>0</td>\n",
       "      <td>0</td>\n",
       "    </tr>\n",
       "  </tbody>\n",
       "</table>\n",
       "<p>51290 rows × 33 columns</p>\n",
       "</div>"
      ],
      "text/plain": [
       "      ProcessTime  ShippingCost  Quantity  Discount  Returned  \\\n",
       "0          2 days        40.770         2       0.0         0   \n",
       "1          4 days        32.980         7       0.4         0   \n",
       "2          2 days       923.630         9       0.1         0   \n",
       "3          2 days       328.659         4       0.2         0   \n",
       "4          5 days       222.780         6       0.0         1   \n",
       "...           ...           ...       ...       ...       ...   \n",
       "51285      7 days         5.170         3       0.0         0   \n",
       "51286      4 days        64.390         3       0.0         0   \n",
       "51287      3 days        63.010         8       0.0         0   \n",
       "51288      7 days        28.250         4       0.2         0   \n",
       "51289      5 days        14.750         3       0.2         0   \n",
       "\n",
       "       ShipMode_Same Day  ShipMode_Second Class  ShipMode_Standard Class  \\\n",
       "0                      0                      0                        0   \n",
       "1                      0                      0                        1   \n",
       "2                      0                      1                        0   \n",
       "3                      0                      0                        0   \n",
       "4                      0                      0                        1   \n",
       "...                  ...                    ...                      ...   \n",
       "51285                  0                      0                        1   \n",
       "51286                  0                      0                        1   \n",
       "51287                  0                      0                        0   \n",
       "51288                  0                      0                        1   \n",
       "51289                  0                      1                        0   \n",
       "\n",
       "       Region_Caribbean  Region_Central Africa  ...  Region_Southern Asia  \\\n",
       "0                     0                      0  ...                     0   \n",
       "1                     0                      0  ...                     0   \n",
       "2                     0                      0  ...                     0   \n",
       "3                     0                      0  ...                     0   \n",
       "4                     0                      0  ...                     0   \n",
       "...                 ...                    ...  ...                   ...   \n",
       "51285                 0                      0  ...                     0   \n",
       "51286                 0                      0  ...                     0   \n",
       "51287                 0                      0  ...                     0   \n",
       "51288                 0                      0  ...                     0   \n",
       "51289                 0                      0  ...                     0   \n",
       "\n",
       "       Region_Southern Europe  Region_Southern US  Region_Western Africa  \\\n",
       "0                           0                   0                      0   \n",
       "1                           0                   0                      0   \n",
       "2                           0                   0                      0   \n",
       "3                           0                   0                      0   \n",
       "4                           0                   0                      0   \n",
       "...                       ...                 ...                    ...   \n",
       "51285                       0                   0                      0   \n",
       "51286                       0                   0                      0   \n",
       "51287                       0                   1                      0   \n",
       "51288                       0                   0                      0   \n",
       "51289                       0                   0                      0   \n",
       "\n",
       "       Region_Western Asia  Region_Western Europe  Region_Western US  \\\n",
       "0                        0                      0                  0   \n",
       "1                        0                      0                  0   \n",
       "2                        0                      0                  0   \n",
       "3                        0                      0                  0   \n",
       "4                        0                      0                  0   \n",
       "...                    ...                    ...                ...   \n",
       "51285                    0                      0                  0   \n",
       "51286                    0                      0                  0   \n",
       "51287                    0                      0                  0   \n",
       "51288                    0                      0                  1   \n",
       "51289                    0                      0                  1   \n",
       "\n",
       "       OrderPriority_High  OrderPriority_Low  OrderPriority_Medium  \n",
       "0                       1                  0                     0  \n",
       "1                       0                  0                     1  \n",
       "2                       0                  0                     0  \n",
       "3                       0                  0                     0  \n",
       "4                       0                  0                     1  \n",
       "...                   ...                ...                   ...  \n",
       "51285                   0                  1                     0  \n",
       "51286                   1                  0                     0  \n",
       "51287                   1                  0                     0  \n",
       "51288                   0                  0                     1  \n",
       "51289                   1                  0                     0  \n",
       "\n",
       "[51290 rows x 33 columns]"
      ]
     },
     "execution_count": 254,
     "metadata": {},
     "output_type": "execute_result"
    }
   ],
   "source": [
    "orders_feat_d"
   ]
  },
  {
   "cell_type": "code",
   "execution_count": null,
   "metadata": {},
   "outputs": [],
   "source": []
  }
 ],
 "metadata": {
  "kernelspec": {
   "display_name": "Python 3",
   "language": "python",
   "name": "python3"
  },
  "language_info": {
   "codemirror_mode": {
    "name": "ipython",
    "version": 3
   },
   "file_extension": ".py",
   "mimetype": "text/x-python",
   "name": "python",
   "nbconvert_exporter": "python",
   "pygments_lexer": "ipython3",
   "version": "3.7.4"
  }
 },
 "nbformat": 4,
 "nbformat_minor": 2
}
